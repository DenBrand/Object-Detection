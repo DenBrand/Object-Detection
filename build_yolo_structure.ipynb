{
 "cells": [
  {
   "cell_type": "code",
   "execution_count": 62,
   "id": "orange-fleece",
   "metadata": {
    "tags": []
   },
   "outputs": [],
   "source": [
    "import os\n",
    "from random import sample\n",
    "from shutil import move"
   ]
  },
  {
   "cell_type": "code",
   "execution_count": 58,
   "id": "pressing-pizza",
   "metadata": {},
   "outputs": [
    {
     "data": {
      "text/plain": [
       "'/home/dennis/Bachelorarbeit/Object-Detection/experiment_01-arbitrary_colors/training_set/tesla_fetched'"
      ]
     },
     "execution_count": 58,
     "metadata": {},
     "output_type": "execute_result"
    }
   ],
   "source": [
    "os.chdir('/home/dennis/Bachelorarbeit/Object-Detection/experiment_01-arbitrary_colors/training_set/tesla_fetched/')\n",
    "os.getcwd()         "
   ]
  },
  {
   "cell_type": "code",
   "execution_count": 59,
   "id": "resistant-chicken",
   "metadata": {},
   "outputs": [],
   "source": [
    "# get img names\n",
    "img_names = os.listdir('./fixed/images/train/')"
   ]
  },
  {
   "cell_type": "code",
   "execution_count": 60,
   "id": "danish-stopping",
   "metadata": {},
   "outputs": [
    {
     "name": "stdout",
     "output_type": "stream",
     "text": [
      "391\n"
     ]
    }
   ],
   "source": [
    "\n",
    "chosen_img_names = sample(img_names, int(len(img_names)*0.3))\n",
    "print(len(chosen_img_names))"
   ]
  },
  {
   "cell_type": "code",
   "execution_count": null,
   "id": "representative-adams",
   "metadata": {},
   "outputs": [],
   "source": [
    "for img in chosen_img_names:\n",
    "    src = os.path.join('fixed', 'images', 'train', img)\n",
    "    trgt = os.path.join('fixed', 'images', 'val', img)\n",
    "    #print(f'{src} to {trgt}')\n",
    "    move(src, trgt)\n",
    "    src = os.path.join('fixed', 'labels', 'train', img.replace('.png', '.txt'))\n",
    "    trgt = os.path.join('fixed', 'labels', 'val', img.replace('.png', '.txt'))\n",
    "    #print(f'{src} to {trgt}')\n",
    "    move(src, trgt)\n",
    "    \n",
    "    src = os.path.join('arbitrary', 'images', 'train', img.replace('.png', '_randomized_colors.png'))\n",
    "    trgt = os.path.join('arbitrary', 'images', 'val', img)\n",
    "    #print(f'{src} to {trgt}')\n",
    "    move(src, trgt)\n",
    "    src = os.path.join('arbitrary', 'labels', 'train', img.replace('.png', '.txt')) \n",
    "    trgt = os.path.join('arbitrary', 'labels', 'val', img.replace('.png', '.txt'))\n",
    "    #print(f'{src} to {trgt}')\n",
    "    move(src, trgt)\n"
   ]
  },
  {
   "cell_type": "code",
   "execution_count": null,
   "id": "combined-license",
   "metadata": {},
   "outputs": [],
   "source": []
  }
 ],
 "metadata": {
  "kernelspec": {
   "display_name": "Python 3",
   "language": "python",
   "name": "python3"
  },
  "language_info": {
   "codemirror_mode": {
    "name": "ipython",
    "version": 3
   },
   "file_extension": ".py",
   "mimetype": "text/x-python",
   "name": "python",
   "nbconvert_exporter": "python",
   "pygments_lexer": "ipython3",
   "version": "3.9.1"
  }
 },
 "nbformat": 4,
 "nbformat_minor": 5
}
