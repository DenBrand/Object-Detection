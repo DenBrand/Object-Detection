{
 "cells": [
  {
   "cell_type": "code",
   "execution_count": 10,
   "id": "concrete-canberra",
   "metadata": {},
   "outputs": [],
   "source": [
    "import os"
   ]
  },
  {
   "cell_type": "code",
   "execution_count": 11,
   "id": "figured-filling",
   "metadata": {},
   "outputs": [],
   "source": [
    "# Notiz an mich selbst:\n",
    "# python ../../yolov3/detect.py --weights yolo_models/yolo_fixed.pt --source test_data/images_fixed --project test_data/yolo_preds_fixed_only --img-size 320 --save-txt --save-conf --nosave\n",
    "# im yolov3 Ordner ausführen, um mit yolo zu detektieren"
   ]
  },
  {
   "cell_type": "code",
   "execution_count": 12,
   "id": "together-graph",
   "metadata": {},
   "outputs": [
    {
     "data": {
      "text/plain": [
       "'D:\\\\Bachelorarbeit\\\\Object-Detection\\\\experiment_01-arbitrary_colors\\\\test_set\\\\yolo_preds_standard'"
      ]
     },
     "execution_count": 12,
     "metadata": {},
     "output_type": "execute_result"
    }
   ],
   "source": [
    "# path to yolo anntotations\n",
    "# annotation_path = r'D:\\Bachelorarbeit\\Object-Detection\\experiment_01-arbitrary_colors\\test_set\\yolo_preds_arbitrary_colors'\n",
    "annotation_path = r'D:\\Bachelorarbeit\\Object-Detection\\experiment_01-arbitrary_colors\\test_set\\yolo_preds_standard'\n",
    "os.chdir(annotation_path)\n",
    "os.getcwd()"
   ]
  },
  {
   "cell_type": "code",
   "execution_count": 13,
   "id": "rough-drive",
   "metadata": {},
   "outputs": [
    {
     "name": "stdout",
     "output_type": "stream",
     "text": [
      "['2021-2-18_20h27min34sec2336.txt', '2021-2-18_20h27min49sec8479.txt', '2021-2-18_20h27min6sec2807.txt', '2021-2-18_21h0min29sec6333.txt', '2021-2-18_21h0min37sec1162.txt', '2021-2-18_21h1min29sec9345.txt', '2021-2-18_21h1min38sec6282.txt', '2021-2-18_21h1min57sec4651.txt', '2021-2-18_21h2min11sec8340.txt', '2021-2-18_21h52min36sec2307.txt']\n"
     ]
    }
   ],
   "source": [
    "# get list of files\n",
    "files = os.listdir(r'.')\n",
    "print(files[:10])"
   ]
  },
  {
   "cell_type": "code",
   "execution_count": 14,
   "id": "tribal-professional",
   "metadata": {},
   "outputs": [],
   "source": [
    "for file in files:\n",
    "    annotations_ = []\n",
    "    with open(file, 'r') as txt:\n",
    "        old_annotations = txt.readlines()\n",
    "        annotations = [line[:-1].split() for line in old_annotations]\n",
    "    \n",
    "    with open(file, 'w') as txt:\n",
    "        for bbox in annotations:\n",
    "            x, y, w, h, c = bbox[1:]\n",
    "            bbox[1] = c\n",
    "            bbox[2:] = [x, y, w, h]\n",
    "            txt.write(f'{bbox[0]} {bbox[1]} {bbox[2]} {bbox[3]} {bbox[4]} {bbox[5]}\\n')"
   ]
  },
  {
   "cell_type": "code",
   "execution_count": null,
   "id": "frank-throat",
   "metadata": {},
   "outputs": [],
   "source": []
  }
 ],
 "metadata": {
  "kernelspec": {
   "display_name": "Python 3",
   "language": "python",
   "name": "python3"
  },
  "language_info": {
   "codemirror_mode": {
    "name": "ipython",
    "version": 3
   },
   "file_extension": ".py",
   "mimetype": "text/x-python",
   "name": "python",
   "nbconvert_exporter": "python",
   "pygments_lexer": "ipython3",
   "version": "3.9.2"
  }
 },
 "nbformat": 4,
 "nbformat_minor": 5
}
