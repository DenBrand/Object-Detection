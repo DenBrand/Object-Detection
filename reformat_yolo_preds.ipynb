{
 "cells": [
  {
   "cell_type": "code",
   "execution_count": 1,
   "id": "surgical-walker",
   "metadata": {},
   "outputs": [],
   "source": [
    "import os"
   ]
  },
  {
   "cell_type": "code",
   "execution_count": 2,
   "id": "competent-genealogy",
   "metadata": {},
   "outputs": [],
   "source": [
    "# Notiz an mich selbst:\n",
    "# python ../../yolov3/detect.py --weights yolo_models/yolo_fixed.pt --source test_data/images_fixed --project test_data/yolo_preds_fixed_only --img-size 320 --save-txt --save-conf --nosave\n",
    "# im yolov3 Ordner ausführen, um mit yolo zu detektieren"
   ]
  },
  {
   "cell_type": "code",
   "execution_count": 3,
   "id": "adjacent-community",
   "metadata": {},
   "outputs": [],
   "source": [
    "# path to yolo anntotations\n",
    "annotation_path = '/home/dennis/Bachelorarbeit/Object-Detection/experiment_01-arbitrary_colors/test_data/yolo_preds_fixed/labels'\n",
    "os.chdir(annotation_path)"
   ]
  },
  {
   "cell_type": "code",
   "execution_count": 4,
   "id": "primary-expense",
   "metadata": {},
   "outputs": [],
   "source": [
    "# get list of files\n",
    "files = os.listdir('./')"
   ]
  },
  {
   "cell_type": "code",
   "execution_count": 5,
   "id": "permanent-concentration",
   "metadata": {},
   "outputs": [],
   "source": [
    "for file in files:\n",
    "    annotations_ = []\n",
    "    with open(file, 'r') as txt:\n",
    "        annotations = [line[:-1].split() for line in txt.readlines()]\n",
    "    \n",
    "    for bbox in annotations:\n",
    "        x, y, w, h, c = bbox[1:]\n",
    "        bbox[1] = c\n",
    "        bbox[2:] = [x, y, w, h]\n",
    "        \n",
    "        with open(file, 'w') as txt:\n",
    "            txt.write(f'{bbox[0]} {bbox[1]} {bbox[2]} {bbox[3]} {bbox[4]} {bbox[5]}\\n')"
   ]
  },
  {
   "cell_type": "code",
   "execution_count": null,
   "id": "occupational-summit",
   "metadata": {},
   "outputs": [],
   "source": []
  }
 ],
 "metadata": {
  "kernelspec": {
   "display_name": "Python 3",
   "language": "python",
   "name": "python3"
  },
  "language_info": {
   "codemirror_mode": {
    "name": "ipython",
    "version": 3
   },
   "file_extension": ".py",
   "mimetype": "text/x-python",
   "name": "python",
   "nbconvert_exporter": "python",
   "pygments_lexer": "ipython3",
   "version": "3.8.5"
  }
 },
 "nbformat": 4,
 "nbformat_minor": 5
}
