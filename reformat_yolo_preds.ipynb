{
 "cells": [
  {
   "cell_type": "code",
   "execution_count": 1,
   "id": "grave-queen",
   "metadata": {},
   "outputs": [],
   "source": [
    "import os"
   ]
  },
  {
   "cell_type": "code",
   "execution_count": 11,
   "id": "selective-array",
   "metadata": {},
   "outputs": [],
   "source": [
    "# Notiz an mich selbst:\n",
    "# python ../../yolov3/detect.py --weights yolo_models/yolo_fixed.pt --source test_data/images_fixed --project test_data/yolo_preds_fixed_only --img-size 320 --save-txt --save-conf --nosave\n",
    "# im yolov3 Ordner ausführen, um mit yolo zu detektieren"
   ]
  },
  {
   "cell_type": "code",
   "execution_count": 3,
   "id": "lesbian-hybrid",
   "metadata": {},
   "outputs": [
    {
     "data": {
      "text/plain": [
       "'/home/dennis/Bachelorarbeit/Object-Detection/experiment_01-arbitrary_colors/test_set'"
      ]
     },
     "execution_count": 3,
     "metadata": {},
     "output_type": "execute_result"
    }
   ],
   "source": [
    "os.chdir('/home/dennis/Bachelorarbeit/Object-Detection/experiment_01-arbitrary_colors/test_set')\n",
    "os.getcwd()"
   ]
  },
  {
   "cell_type": "code",
   "execution_count": 4,
   "id": "oriental-assets",
   "metadata": {},
   "outputs": [
    {
     "data": {
      "text/plain": [
       "'/home/dennis/Bachelorarbeit/Object-Detection/experiment_01-arbitrary_colors/test_set/yolo_preds_standard_on_randomized_colors'"
      ]
     },
     "execution_count": 4,
     "metadata": {},
     "output_type": "execute_result"
    }
   ],
   "source": [
    "# path to yolo anntotations\n",
    "annotation_path = 'yolo_preds_standard_on_randomized_colors/'\n",
    "os.chdir(annotation_path)\n",
    "os.getcwd()"
   ]
  },
  {
   "cell_type": "code",
   "execution_count": 6,
   "id": "urban-decrease",
   "metadata": {},
   "outputs": [
    {
     "name": "stdout",
     "output_type": "stream",
     "text": [
      "['2021-4-27_20h16min24sec9984.txt', '2021-3-1_23h49min36sec3995.txt', '2021-4-18_12h35min38sec866.txt', '2021-4-18_12h26min7sec144.txt', '2021-5-2_12h21min34sec2129.txt', '2021-2-21_13h5min11sec5196.txt', '2021-4-18_11h18min34sec4277.txt', '2021-3-1_23h45min39sec5352.txt', '2021-2-18_21h59min17sec657.txt', '2021-2-19_2h35min42sec9588.txt']\n"
     ]
    }
   ],
   "source": [
    "# get list of files\n",
    "files = os.listdir(r'.')\n",
    "print(files[:10])"
   ]
  },
  {
   "cell_type": "code",
   "execution_count": 7,
   "id": "bored-worry",
   "metadata": {},
   "outputs": [],
   "source": [
    "for file in files:\n",
    "    annotations_ = []\n",
    "    with open(file, 'r') as txt:\n",
    "        old_annotations = txt.readlines()\n",
    "        annotations = [line[:-1].split() for line in old_annotations]\n",
    "    \n",
    "    with open(file, 'w') as txt:\n",
    "        for bbox in annotations:\n",
    "            x, y, w, h, c = bbox[1:]\n",
    "            bbox[1] = c\n",
    "            bbox[2:] = [x, y, w, h]\n",
    "            txt.write(f'{bbox[0]} {bbox[1]} {bbox[2]} {bbox[3]} {bbox[4]} {bbox[5]}\\n')"
   ]
  },
  {
   "cell_type": "code",
   "execution_count": null,
   "id": "boxed-millennium",
   "metadata": {},
   "outputs": [],
   "source": []
  }
 ],
 "metadata": {
  "kernelspec": {
   "display_name": "Python 3",
   "language": "python",
   "name": "python3"
  },
  "language_info": {
   "codemirror_mode": {
    "name": "ipython",
    "version": 3
   },
   "file_extension": ".py",
   "mimetype": "text/x-python",
   "name": "python",
   "nbconvert_exporter": "python",
   "pygments_lexer": "ipython3",
   "version": "3.9.1"
  }
 },
 "nbformat": 4,
 "nbformat_minor": 5
}
