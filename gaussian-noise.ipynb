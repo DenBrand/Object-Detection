{
 "cells": [
  {
   "cell_type": "code",
   "execution_count": 63,
   "id": "burning-colon",
   "metadata": {},
   "outputs": [],
   "source": [
    "import os\n",
    "import numpy as np\n",
    "import random\n",
    "import cv2"
   ]
  },
  {
   "cell_type": "code",
   "execution_count": 64,
   "id": "unexpected-hundred",
   "metadata": {},
   "outputs": [],
   "source": [
    "# set up before running\n",
    "imgs_directory = r'C:\\Users\\denni\\Desktop\\imgs'\n",
    "probability = 0.02"
   ]
  },
  {
   "cell_type": "code",
   "execution_count": 65,
   "id": "geological-yellow",
   "metadata": {},
   "outputs": [
    {
     "name": "stdout",
     "output_type": "stream",
     "text": [
      "['2021-2-18_20h27min34sec2336.png', '2021-2-18_20h27min49sec8479.png', '2021-2-18_20h27min6sec2807.png']\n"
     ]
    }
   ],
   "source": [
    "# get image paths\n",
    "img_names = os.listdir(imgs_directory)\n",
    "print(img_paths[:3])"
   ]
  },
  {
   "cell_type": "code",
   "execution_count": 66,
   "id": "raising-highland",
   "metadata": {},
   "outputs": [],
   "source": [
    "for img_name in img_names:\n",
    "    # laod image\n",
    "    img = cv2.imread(os.path.join(imgs_directory, img_name))\n",
    "    \n",
    "    spiced_img = np.zeros(img.shape, np.uint8)\n",
    "    thres = 1 - probability\n",
    "    for i in range(img.shape[0]):\n",
    "        for j in range(img.shape[1]):\n",
    "            rdn = random.random()\n",
    "            if rdn < probability:\n",
    "                # some pepper\n",
    "                spiced_img[i][j] = 0\n",
    "            elif rdn > thres:\n",
    "                # givin da salty note\n",
    "                spiced_img[i][j] = 255\n",
    "            else:\n",
    "                spiced_img[i][j] = img[i][j]\n",
    "    cv2.imwrite(os.path.join(imgs_directory, img_name), spiced_img)\n",
    "plt.show()"
   ]
  },
  {
   "cell_type": "code",
   "execution_count": null,
   "id": "express-proxy",
   "metadata": {},
   "outputs": [],
   "source": []
  }
 ],
 "metadata": {
  "kernelspec": {
   "display_name": "Python 3",
   "language": "python",
   "name": "python3"
  },
  "language_info": {
   "codemirror_mode": {
    "name": "ipython",
    "version": 3
   },
   "file_extension": ".py",
   "mimetype": "text/x-python",
   "name": "python",
   "nbconvert_exporter": "python",
   "pygments_lexer": "ipython3",
   "version": "3.9.1"
  }
 },
 "nbformat": 4,
 "nbformat_minor": 5
}
