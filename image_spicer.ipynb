{
 "cells": [
  {
   "cell_type": "code",
   "execution_count": 1,
   "id": "curious-camping",
   "metadata": {},
   "outputs": [],
   "source": [
    "import os\n",
    "import numpy as np\n",
    "import random\n",
    "import cv2\n",
    "from math import sqrt, pi, exp"
   ]
  },
  {
   "cell_type": "code",
   "execution_count": 2,
   "id": "stunning-contract",
   "metadata": {},
   "outputs": [],
   "source": [
    "# set up before running\n",
    "imgs_directory = r'C:\\Users\\denni\\Desktop\\imgs'\n",
    "sigma = 30"
   ]
  },
  {
   "cell_type": "code",
   "execution_count": 3,
   "id": "artistic-ceremony",
   "metadata": {},
   "outputs": [
    {
     "name": "stdout",
     "output_type": "stream",
     "text": [
      "['2021-2-18_20h27min34sec2336.png', '2021-2-18_20h27min49sec8479.png', '2021-2-18_20h27min6sec2807.png']\n"
     ]
    }
   ],
   "source": [
    "# get image paths\n",
    "img_names = os.listdir(imgs_directory)\n",
    "print(img_names[:3])"
   ]
  },
  {
   "cell_type": "code",
   "execution_count": 4,
   "id": "intended-freeze",
   "metadata": {},
   "outputs": [],
   "source": [
    "for img_name in img_names:\n",
    "    # laod image\n",
    "    img = cv2.imread(os.path.join(imgs_directory, img_name))\n",
    "    \n",
    "    noise = np.random.normal(0, sigma, img.shape)\n",
    "    \n",
    "    img = img + noise\n",
    "                    \n",
    "    cv2.imwrite(os.path.join(imgs_directory, img_name), img)"
   ]
  },
  {
   "cell_type": "code",
   "execution_count": null,
   "id": "mysterious-permission",
   "metadata": {},
   "outputs": [],
   "source": []
  }
 ],
 "metadata": {
  "kernelspec": {
   "display_name": "Python 3",
   "language": "python",
   "name": "python3"
  },
  "language_info": {
   "codemirror_mode": {
    "name": "ipython",
    "version": 3
   },
   "file_extension": ".py",
   "mimetype": "text/x-python",
   "name": "python",
   "nbconvert_exporter": "python",
   "pygments_lexer": "ipython3",
   "version": "3.9.1"
  }
 },
 "nbformat": 4,
 "nbformat_minor": 5
}
