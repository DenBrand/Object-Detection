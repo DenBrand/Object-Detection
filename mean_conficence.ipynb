{
 "cells": [
  {
   "cell_type": "code",
   "execution_count": 1,
   "id": "thick-slide",
   "metadata": {},
   "outputs": [],
   "source": [
    "import os"
   ]
  },
  {
   "cell_type": "code",
   "execution_count": 2,
   "id": "diagnostic-distribution",
   "metadata": {},
   "outputs": [
    {
     "data": {
      "text/plain": [
       "'/home/dennis/Bachelorarbeit/Object-Detection/experiment_01-arbitrary_colors/test_set'"
      ]
     },
     "execution_count": 2,
     "metadata": {},
     "output_type": "execute_result"
    }
   ],
   "source": [
    "os.chdir('/home/dennis/Bachelorarbeit/Object-Detection/experiment_01-arbitrary_colors/test_set')\n",
    "os.getcwd()"
   ]
  },
  {
   "cell_type": "code",
   "execution_count": 34,
   "id": "together-schedule",
   "metadata": {},
   "outputs": [],
   "source": [
    "# get annotations path\n",
    "anno_path = 'yolo_preds_standard_on_randomized_colors/'"
   ]
  },
  {
   "cell_type": "code",
   "execution_count": 35,
   "id": "golden-allah",
   "metadata": {},
   "outputs": [
    {
     "name": "stdout",
     "output_type": "stream",
     "text": [
      "['2021-4-27_20h16min24sec9984.txt', '2021-3-1_23h49min36sec3995.txt', '2021-4-18_12h35min38sec866.txt', '2021-4-18_12h26min7sec144.txt', '2021-5-2_12h21min34sec2129.txt']\n"
     ]
    }
   ],
   "source": [
    "names = os.listdir(anno_path)\n",
    "print(names[:5]) #sanity check"
   ]
  },
  {
   "cell_type": "code",
   "execution_count": 36,
   "id": "further-acoustic",
   "metadata": {},
   "outputs": [],
   "source": [
    "sum_confs = 0.0\n",
    "sum_lines = 0\n",
    "for name in names:\n",
    "    lines = []\n",
    "    with open(os.path.join(anno_path, name), 'r') as file:\n",
    "        lines = file.readlines()\n",
    "        sum_lines += len(lines)\n",
    "    for line in lines:\n",
    "        _, conf, _, _, _, _ = line.split()\n",
    "        conf = float(conf)\n",
    "        sum_confs += conf"
   ]
  },
  {
   "cell_type": "code",
   "execution_count": 37,
   "id": "alone-outside",
   "metadata": {},
   "outputs": [
    {
     "name": "stdout",
     "output_type": "stream",
     "text": [
      "0.7759041347150253\n"
     ]
    }
   ],
   "source": [
    "# mean confidence\n",
    "print(sum_confs / sum_lines)"
   ]
  },
  {
   "cell_type": "code",
   "execution_count": null,
   "id": "plastic-actress",
   "metadata": {},
   "outputs": [],
   "source": []
  }
 ],
 "metadata": {
  "kernelspec": {
   "display_name": "Python 3",
   "language": "python",
   "name": "python3"
  },
  "language_info": {
   "codemirror_mode": {
    "name": "ipython",
    "version": 3
   },
   "file_extension": ".py",
   "mimetype": "text/x-python",
   "name": "python",
   "nbconvert_exporter": "python",
   "pygments_lexer": "ipython3",
   "version": "3.9.1"
  }
 },
 "nbformat": 4,
 "nbformat_minor": 5
}
