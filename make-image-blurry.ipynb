{
 "cells": [
  {
   "cell_type": "code",
   "execution_count": 17,
   "id": "blind-energy",
   "metadata": {},
   "outputs": [],
   "source": [
    "%matplotlib inline\n",
    "import os\n",
    "import cv2\n",
    "import numpy as np"
   ]
  },
  {
   "cell_type": "code",
   "execution_count": 38,
   "id": "statistical-beast",
   "metadata": {},
   "outputs": [
    {
     "data": {
      "text/plain": [
       "'D:\\\\Bachelorarbeit\\\\Object-Detection\\\\experiments\\\\training_set\\\\tesla_fetched_blurry\\\\images\\\\val'"
      ]
     },
     "execution_count": 38,
     "metadata": {},
     "output_type": "execute_result"
    }
   ],
   "source": [
    "# set up before running\n",
    "imgs_directory = r'D:\\Bachelorarbeit\\Object-Detection\\experiments\\training_set\\tesla_fetched_blurry\\images\\val'\n",
    "filter_size = 11 # needs to be 2n+1\n",
    "sigma = 5\n",
    "os.chdir(imgs_directory)\n",
    "os.getcwd()"
   ]
  },
  {
   "cell_type": "code",
   "execution_count": 39,
   "id": "recent-contest",
   "metadata": {},
   "outputs": [
    {
     "name": "stdout",
     "output_type": "stream",
     "text": [
      "There was no list.txt\n"
     ]
    }
   ],
   "source": [
    "# get image references\n",
    "img_names = os.listdir()\n",
    "size_before = len(img_names)\n",
    "img_names = [img_name for img_name in img_names if img_name != 'list.txt']\n",
    "size_after = len(img_names)\n",
    "if size_before-size_after == 0:\n",
    "    print('There was no list.txt')\n",
    "else:\n",
    "    print('Ignoring list.txt')"
   ]
  },
  {
   "cell_type": "code",
   "execution_count": 40,
   "id": "economic-glossary",
   "metadata": {},
   "outputs": [],
   "source": [
    "# set up filter kernel\n",
    "kernel = cv2.getGaussianKernel(filter_size, sigma)\n",
    "kernel = np.dot(kernel, kernel.transpose())"
   ]
  },
  {
   "cell_type": "code",
   "execution_count": 41,
   "id": "improved-direction",
   "metadata": {},
   "outputs": [],
   "source": [
    "for img_name in img_names:\n",
    "    img = cv2.imread(img_name)\n",
    "    img = cv2.filter2D(img, -1, kernel)\n",
    "    cv2.imwrite(img_name, img)"
   ]
  },
  {
   "cell_type": "code",
   "execution_count": null,
   "id": "balanced-catholic",
   "metadata": {},
   "outputs": [],
   "source": []
  }
 ],
 "metadata": {
  "kernelspec": {
   "display_name": "Python 3",
   "language": "python",
   "name": "python3"
  },
  "language_info": {
   "codemirror_mode": {
    "name": "ipython",
    "version": 3
   },
   "file_extension": ".py",
   "mimetype": "text/x-python",
   "name": "python",
   "nbconvert_exporter": "python",
   "pygments_lexer": "ipython3",
   "version": "3.9.2"
  }
 },
 "nbformat": 4,
 "nbformat_minor": 5
}
